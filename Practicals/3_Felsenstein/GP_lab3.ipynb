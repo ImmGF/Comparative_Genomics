{
 "cells": [
  {
   "cell_type": "code",
   "execution_count": 1,
   "metadata": {},
   "outputs": [],
   "source": [
    "#Algorytm Felsensteina\n",
    "import math\n",
    "import numpy as np"
   ]
  },
  {
   "cell_type": "code",
   "execution_count": 2,
   "metadata": {},
   "outputs": [],
   "source": [
    "def pr(nucleotide1: str, nucleotide2:str , time: float, alpha = .25):\n",
    "    \n",
    "    match = nucleotide1 == nucleotide2\n",
    "    \n",
    "    probability = (1/4 + (3/4 if match else -1/4) * math.exp(-4 * alpha * time))\n",
    "    \n",
    "    return(probability)"
   ]
  },
  {
   "cell_type": "code",
   "execution_count": 3,
   "metadata": {},
   "outputs": [],
   "source": [
    "def isLeaf(k: int, structure: list):\n",
    "    return(structure[k] == ())"
   ]
  },
  {
   "cell_type": "code",
   "execution_count": 4,
   "metadata": {},
   "outputs": [],
   "source": [
    "def prL(k: int, a: str, u: int, x: list, t: int, s: list, prL_number = 0):\n",
    "    ACTG = ['A', 'C', 'T', 'G']\n",
    "    \n",
    "    if isLeaf(k,s):\n",
    "        if x[k][u] == a:\n",
    "            prL_number = 1\n",
    "        \n",
    "        else:\n",
    "            prL_number = 0\n",
    "    else:\n",
    "        sons = [i for i in s[k]]\n",
    "        for b in ACTG:\n",
    "            for c in ACTG:\n",
    "                prL_number += (pr(a,b,t[sons[0]]) * \\\n",
    "                               prL(sons[0], b, u, x, t, s) * \\\n",
    "                               pr(a,c,t[sons[1]]) * \\\n",
    "                               prL(sons[1], c, u, x, t, s))\n",
    "    return(prL_number)"
   ]
  },
  {
   "cell_type": "code",
   "execution_count": 5,
   "metadata": {},
   "outputs": [],
   "source": [
    "def prLBis(u, x, t, s):\n",
    "    \n",
    "    q = 0.25\n",
    "    tree_probability = 0\n",
    "    ACTG = ['A', 'C', 'T', 'G']\n",
    "    \n",
    "    for n in ACTG:\n",
    "        tree_probability += prL(len(s) - 1, n, u, x, t, s) * q\n",
    "    \n",
    "    return(tree_probability)"
   ]
  },
  {
   "cell_type": "code",
   "execution_count": 6,
   "metadata": {},
   "outputs": [],
   "source": [
    "def treeLogLikelihood(x, t, s):\n",
    "    \n",
    "    result = 0\n",
    "    \n",
    "    for u in range(len(x[0])):\n",
    "        result += math.log(prLBis(u,x,t,s))\n",
    "    \n",
    "    return(result)"
   ]
  },
  {
   "cell_type": "code",
   "execution_count": 7,
   "metadata": {},
   "outputs": [],
   "source": [
    "def testuj():\n",
    "    \"\"\"\n",
    "    Procedura testowa dla alg. Felsensteina.\n",
    "    \"\"\"\n",
    "    x = [ \"AACACA\", \"AACGCA\", \"ATTACA\", \"AACGTG\" ]\n",
    "    leaf = ()\n",
    "    s = [leaf]*4 + [ (0,1), (2,3), (4,5) ]\n",
    "    t = [ 1.0, 2.5, 1.0, 1.0, 3.0, 4.5, -1.0 ]\n",
    "    print(treeLogLikelihood(x, t, s)) # -33.25"
   ]
  },
  {
   "cell_type": "code",
   "execution_count": 8,
   "metadata": {},
   "outputs": [
    {
     "name": "stdout",
     "output_type": "stream",
     "text": [
      "-33.253205712534225\n"
     ]
    }
   ],
   "source": [
    "testuj()"
   ]
  },
  {
   "cell_type": "code",
   "execution_count": null,
   "metadata": {},
   "outputs": [],
   "source": []
  }
 ],
 "metadata": {
  "kernelspec": {
   "display_name": "Python 3",
   "language": "python",
   "name": "python3"
  },
  "language_info": {
   "codemirror_mode": {
    "name": "ipython",
    "version": 3
   },
   "file_extension": ".py",
   "mimetype": "text/x-python",
   "name": "python",
   "nbconvert_exporter": "python",
   "pygments_lexer": "ipython3",
   "version": "3.7.0"
  }
 },
 "nbformat": 4,
 "nbformat_minor": 2
}
